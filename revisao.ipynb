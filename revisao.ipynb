{
 "cells": [
  {
   "cell_type": "markdown",
   "metadata": {},
   "source": [
    "## o markdown serve para organizar os blocos! tipo um titulo"
   ]
  },
  {
   "cell_type": "markdown",
   "metadata": {},
   "source": [
    "# Análise de Dados - SENAC RJ \n",
    "\n",
    "# AULA 5 \n",
    "\n",
    "# Revisão completa"
   ]
  },
  {
   "cell_type": "code",
   "execution_count": 1,
   "metadata": {},
   "outputs": [
    {
     "name": "stdout",
     "output_type": "stream",
     "text": [
      "olá\n"
     ]
    }
   ],
   "source": [
    "#estrutura para imprimir um texto\n",
    "print(\"olá\")"
   ]
  },
  {
   "cell_type": "code",
   "execution_count": 2,
   "metadata": {},
   "outputs": [],
   "source": [
    "#variavel recebe palavra. aspas são para mostrar para maquina que é uma palavra\n",
    "nome = \"João\""
   ]
  },
  {
   "cell_type": "code",
   "execution_count": 3,
   "metadata": {},
   "outputs": [
    {
     "name": "stdout",
     "output_type": "stream",
     "text": [
      "João\n"
     ]
    }
   ],
   "source": [
    "print(nome)"
   ]
  },
  {
   "cell_type": "code",
   "execution_count": 4,
   "metadata": {},
   "outputs": [
    {
     "name": "stdout",
     "output_type": "stream",
     "text": [
      "50\n"
     ]
    }
   ],
   "source": [
    "#variavel recebe valores. depois tem a variavel resultado que recebe a soma das variaveis anteriores.\n",
    "num1 = 20\n",
    "num2 = 30\n",
    "resultado = num1 + num2\n",
    "print(resultado)"
   ]
  },
  {
   "cell_type": "code",
   "execution_count": 6,
   "metadata": {},
   "outputs": [
    {
     "name": "stdout",
     "output_type": "stream",
     "text": [
      "O resultado de 20 + 30 é 50. \n"
     ]
    }
   ],
   "source": [
    "#o f é para indicar uma string formatada que usa dados de variaveis (dados que podem mudar). ou seja, para adicinar uma variavel na resposta, precisa dos colchetes + f na estrutura.\n",
    "print(f\"O resultado de {num1} + {num2} é {resultado}. \")"
   ]
  },
  {
   "cell_type": "code",
   "execution_count": 7,
   "metadata": {},
   "outputs": [
    {
     "name": "stdout",
     "output_type": "stream",
     "text": [
      "60\n"
     ]
    }
   ],
   "source": [
    "num3 = int(input(\"digite o primeiro número:  \"))\n",
    "num4 = int(input(\"digite o segundo número:  \"))\n",
    "resultado2 = num3 + num4 \n",
    "print(resultado2)"
   ]
  },
  {
   "cell_type": "code",
   "execution_count": null,
   "metadata": {},
   "outputs": [],
   "source": [
    "#estrutura de decisões \n",
    "b1 = 8.5\n",
    "b2 = 7.5 \n",
    "b3 = 8.9 \n",
    "b4 = 7.8 \n",
    "\n",
    "media = (b1+b2+b3+b4) / 4 \n",
    "\n",
    "if media >= 7: \n",
    "    print(\"Aprovado\")\n",
    "elif media >=5 and media <7:\n",
    "    print(\"Recuperação\")\n",
    "else:\n",
    "    print(\"Reprovado\")"
   ]
  },
  {
   "cell_type": "code",
   "execution_count": null,
   "metadata": {},
   "outputs": [],
   "source": [
    "#Tratamento de exceção\n",
    "try: \n",
    "   num3 = int(input(\"Digite o primero número\"))\n",
    "except:\n",
    "    print(\"Digite um número válido\")"
   ]
  },
  {
   "cell_type": "code",
   "execution_count": null,
   "metadata": {},
   "outputs": [],
   "source": [
    "#Tratamento de exceção + Estrutura de repetição\n",
    "while True:\n",
    "    try:\n",
    "         num3 = int(input(\"Digite o primero número\"))\n",
    "         break \n",
    "    except:\n",
    "        print(\"Digite um número válido\")\n"
   ]
  },
  {
   "cell_type": "code",
   "execution_count": 8,
   "metadata": {},
   "outputs": [
    {
     "name": "stdout",
     "output_type": "stream",
     "text": [
      "1\n",
      "2\n",
      "3\n",
      "4\n",
      "5\n"
     ]
    }
   ],
   "source": [
    "#While com condição\n",
    "contador = 1\n",
    "\n",
    "while contador <=5:\n",
    "    print(contador)\n",
    "    contador += 1\n"
   ]
  },
  {
   "cell_type": "code",
   "execution_count": 10,
   "metadata": {},
   "outputs": [
    {
     "name": "stdout",
     "output_type": "stream",
     "text": [
      "0\n",
      "1\n",
      "2\n",
      "3\n",
      "4\n",
      "5\n",
      "6\n",
      "7\n",
      "8\n",
      "9\n"
     ]
    }
   ],
   "source": [
    "#For i in range() - i é uma variavel \n",
    "for i in range(10):\n",
    "    print(i)"
   ]
  },
  {
   "cell_type": "code",
   "execution_count": 11,
   "metadata": {},
   "outputs": [
    {
     "name": "stdout",
     "output_type": "stream",
     "text": [
      "5\n",
      "6\n",
      "7\n",
      "8\n",
      "9\n",
      "10\n"
     ]
    }
   ],
   "source": [
    "for i in range(5,11):\n",
    "    print(i)"
   ]
  },
  {
   "cell_type": "code",
   "execution_count": 12,
   "metadata": {},
   "outputs": [
    {
     "name": "stdout",
     "output_type": "stream",
     "text": [
      "<class 'tuple'>\n"
     ]
    }
   ],
   "source": [
    "#(TUPLE) - a tupla não pode ser alterada \n",
    "produtos = \"Fogão\" , \"Geladeira\"\n",
    "tipo_dados = type(produtos)\n",
    "print(tipo_dados)"
   ]
  },
  {
   "cell_type": "code",
   "execution_count": 15,
   "metadata": {},
   "outputs": [
    {
     "name": "stdout",
     "output_type": "stream",
     "text": [
      "['Fogão', 'Geladeira']\n"
     ]
    }
   ],
   "source": [
    "#Estrutura de listas - é mutável por meio dos [] (se tem [] sei que é uma lista)\n",
    "produtos = [\"Fogão\" , \"Geladeira\" ]\n",
    "print(produtos)"
   ]
  },
  {
   "cell_type": "code",
   "execution_count": 27,
   "metadata": {},
   "outputs": [
    {
     "name": "stdout",
     "output_type": "stream",
     "text": [
      "Fogão\n",
      "Geladeira \n"
     ]
    }
   ],
   "source": [
    "#for variavel in produtos na lista! faz ficar um em cima do outro, igual uma lista mesmo. a variavel se transforma nos produtos no print \n",
    "for i in produtos:\n",
    "    print(i)"
   ]
  },
  {
   "cell_type": "code",
   "execution_count": 17,
   "metadata": {},
   "outputs": [
    {
     "name": "stdout",
     "output_type": "stream",
     "text": [
      "Geladeira \n"
     ]
    }
   ],
   "source": [
    "#Para acessar um produto especifico da lista\n",
    "produtos = [\"Fogão\" , \"Geladeira \"]\n",
    "preco = [600, 2500]\n",
    "tipo_dados = type(produtos)\n",
    "print(produtos[1])"
   ]
  },
  {
   "cell_type": "code",
   "execution_count": 21,
   "metadata": {},
   "outputs": [
    {
     "name": "stdout",
     "output_type": "stream",
     "text": [
      "2500\n",
      "O produto Fogão custa R$600\n",
      "O produto Geladeira  custa R$2500\n"
     ]
    }
   ],
   "source": [
    "#Print + len  - len olha a lisa e conta a quantidade de dados dentro dela\n",
    "produtos = [\"Fogão\" , \"Geladeira \"]\n",
    "preco = [600, 2500]\n",
    "tipo_dados = type(produtos)\n",
    "print(preco[1])\n",
    "\n",
    "for i in range (len(produtos)):\n",
    "    print(f\"O produto {produtos[i]} custa R${preco[i]}\")\n"
   ]
  },
  {
   "cell_type": "code",
   "execution_count": 22,
   "metadata": {},
   "outputs": [
    {
     "name": "stdout",
     "output_type": "stream",
     "text": [
      "O produto Fogão custa R$600\n",
      "O produto Geladeira  custa R$2500\n"
     ]
    }
   ],
   "source": [
    "#Duas listas dentro do mesmo print com range len \n",
    "for i in range (len(produtos)):\n",
    "    print(f\"O produto {produtos[i]} custa R${preco[i]}\")\n"
   ]
  },
  {
   "cell_type": "code",
   "execution_count": 23,
   "metadata": {},
   "outputs": [
    {
     "name": "stdout",
     "output_type": "stream",
     "text": [
      "['chocolate', 'goiaba', 'ovo', 'sabão', 'coca']\n"
     ]
    }
   ],
   "source": [
    "#Exercicio de lista - trocando item da lista(modificando elemento)\n",
    "\n",
    "lista = [\"chocolate\" , \"maça\" , \"ovo\" , \"sabão\" , \"coca\"]\n",
    "lista[1] = \"goiaba\"\n",
    "print(lista)"
   ]
  },
  {
   "cell_type": "code",
   "execution_count": 24,
   "metadata": {},
   "outputs": [
    {
     "name": "stdout",
     "output_type": "stream",
     "text": [
      "['chocolate', 'goiaba', 'Queijo', 'ovo', 'sabão', 'coca']\n"
     ]
    }
   ],
   "source": [
    "#Insert coloca um elemento em uma posiçao especifica\n",
    "lista = [\"chocolate\" , \"maça\" , \"ovo\" , \"sabão\" , \"coca\"]\n",
    "lista[1] = \"goiaba\"\n",
    "lista.insert(2,\"Queijo\")\n",
    "print(lista)"
   ]
  },
  {
   "cell_type": "code",
   "execution_count": 25,
   "metadata": {},
   "outputs": [
    {
     "name": "stdout",
     "output_type": "stream",
     "text": [
      "['chocolate', 'goiaba', 'Queijo', 'sabão', 'coca']\n"
     ]
    }
   ],
   "source": [
    "#Remoção - remove (valor)\n",
    "lista = [\"chocolate\" , \"maça\" , \"ovo\" , \"sabão\" , \"coca\"]\n",
    "lista[1] = \"goiaba\"\n",
    "lista.insert(2,\"Queijo\")\n",
    "lista.remove(\"ovo\")\n",
    "print(lista)"
   ]
  },
  {
   "cell_type": "code",
   "execution_count": 26,
   "metadata": {},
   "outputs": [
    {
     "name": "stdout",
     "output_type": "stream",
     "text": [
      "['goiaba', 'Queijo', 'sabão', 'coca']\n"
     ]
    }
   ],
   "source": [
    "#Remoçao - Pop(posição) indice \n",
    "lista = [\"chocolate\" , \"maça\" , \"ovo\" , \"sabão\" , \"coca\"]\n",
    "lista[1] = \"goiaba\"\n",
    "lista.insert(2,\"Queijo\")\n",
    "lista.remove(\"ovo\")\n",
    "lista.pop(0)\n",
    "print(lista)"
   ]
  },
  {
   "cell_type": "code",
   "execution_count": null,
   "metadata": {},
   "outputs": [],
   "source": [
    "#Remoçao - Del(posição) indice\n",
    "lista = [\"chocolate\" , \"maça\" , \"ovo\" , \"sabão\" , \"coca\"]\n",
    "lista[1] = \"goiaba\"\n",
    "lista.insert(2,\"Queijo\")\n",
    "lista.remove(\"ovo\")\n",
    "lista.pop(0)\n",
    "print(lista)"
   ]
  }
 ],
 "metadata": {
  "kernelspec": {
   "display_name": "Python 3",
   "language": "python",
   "name": "python3"
  },
  "language_info": {
   "codemirror_mode": {
    "name": "ipython",
    "version": 3
   },
   "file_extension": ".py",
   "mimetype": "text/x-python",
   "name": "python",
   "nbconvert_exporter": "python",
   "pygments_lexer": "ipython3",
   "version": "3.11.4"
  },
  "orig_nbformat": 4
 },
 "nbformat": 4,
 "nbformat_minor": 2
}
